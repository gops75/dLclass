{
  "nbformat": 4,
  "nbformat_minor": 0,
  "metadata": {
    "colab": {
      "name": "inkersDL_p1_1stDNN.ipynb",
      "version": "0.3.2",
      "provenance": [],
      "collapsed_sections": []
    },
    "kernelspec": {
      "name": "python3",
      "display_name": "Python 3"
    },
    "accelerator": "GPU"
  },
  "cells": [
    {
      "cell_type": "markdown",
      "metadata": {
        "id": "view-in-github",
        "colab_type": "text"
      },
      "source": [
        "[View in Colaboratory](https://colab.research.google.com/github/gops75/dLclass/blob/master/inkersDL_p1_1stDNN.ipynb)"
      ]
    },
    {
      "metadata": {
        "id": "N6bVEPRq1Xxu",
        "colab_type": "code",
        "colab": {
          "base_uri": "https://localhost:8080/",
          "height": 141
        },
        "outputId": "d04d415c-b4da-46b5-d5f8-87591cbd2e43"
      },
      "cell_type": "code",
      "source": [
        "!pip install keras"
      ],
      "execution_count": 1,
      "outputs": [
        {
          "output_type": "stream",
          "text": [
            "Requirement already satisfied: keras in /usr/local/lib/python3.6/dist-packages (2.1.6)\r\n",
            "Requirement already satisfied: scipy>=0.14 in /usr/local/lib/python3.6/dist-packages (from keras) (0.19.1)\r\n",
            "Requirement already satisfied: numpy>=1.9.1 in /usr/local/lib/python3.6/dist-packages (from keras) (1.14.3)\r\n",
            "Requirement already satisfied: pyyaml in /usr/local/lib/python3.6/dist-packages (from keras) (3.12)\r\n",
            "Requirement already satisfied: six>=1.9.0 in /usr/local/lib/python3.6/dist-packages (from keras) (1.11.0)\r\n",
            "Requirement already satisfied: h5py in /usr/local/lib/python3.6/dist-packages (from keras) (2.7.1)\r\n"
          ],
          "name": "stdout"
        }
      ]
    },
    {
      "metadata": {
        "id": "QKvjKuGe3TzA",
        "colab_type": "code",
        "colab": {
          "base_uri": "https://localhost:8080/",
          "height": 34
        },
        "outputId": "858e95d4-107e-4dda-aebe-8573ab5320ed"
      },
      "cell_type": "code",
      "source": [
        "import tensorflow as tf\n",
        "tf.test.gpu_device_name()"
      ],
      "execution_count": 1,
      "outputs": [
        {
          "output_type": "execute_result",
          "data": {
            "text/plain": [
              "'/device:GPU:0'"
            ]
          },
          "metadata": {
            "tags": []
          },
          "execution_count": 1
        }
      ]
    },
    {
      "metadata": {
        "id": "V22MwmuPytxy",
        "colab_type": "code",
        "colab": {
          "base_uri": "https://localhost:8080/",
          "height": 34
        },
        "outputId": "aac8a011-7995-4e9a-ca8c-73d952d648b2"
      },
      "cell_type": "code",
      "source": [
        "import numpy as np\n",
        "from keras.models import Sequential\n",
        "from keras.layers import Dense, Dropout, Activation, Flatten, Add\n",
        "from keras.layers import Convolution2D, MaxPooling2D\n",
        "from keras.utils import np_utils\n",
        "from keras.datasets import mnist"
      ],
      "execution_count": 2,
      "outputs": [
        {
          "output_type": "stream",
          "text": [
            "Using TensorFlow backend.\n"
          ],
          "name": "stderr"
        }
      ]
    },
    {
      "metadata": {
        "id": "dUPRHYeQziam",
        "colab_type": "code",
        "colab": {}
      },
      "cell_type": "code",
      "source": [
        "(X_train, y_train), (X_test, y_test) = mnist.load_data()"
      ],
      "execution_count": 0,
      "outputs": []
    },
    {
      "metadata": {
        "id": "ypJAkpQz9SnS",
        "colab_type": "code",
        "colab": {
          "base_uri": "https://localhost:8080/",
          "height": 300
        },
        "outputId": "2bc3550f-ded5-40a3-bbb4-c589ac5ba4cd"
      },
      "cell_type": "code",
      "source": [
        "print(X_train.shape)\n",
        "from matplotlib import pyplot as plt\n",
        "%matplotlib inline\n",
        "plt.imshow(X_train[0])"
      ],
      "execution_count": 4,
      "outputs": [
        {
          "output_type": "stream",
          "text": [
            "(60000, 28, 28)\n"
          ],
          "name": "stdout"
        },
        {
          "output_type": "execute_result",
          "data": {
            "text/plain": [
              "<matplotlib.image.AxesImage at 0x7f3b6dd904a8>"
            ]
          },
          "metadata": {
            "tags": []
          },
          "execution_count": 4
        },
        {
          "output_type": "display_data",
          "data": {
            "image/png": "[encoded data removed]",
            "text/plain": [
              "<matplotlib.figure.Figure at 0x7f3b735638d0>"
            ]
          },
          "metadata": {
            "tags": []
          }
        }
      ]
    },
    {
      "metadata": {
        "id": "_mmRQJxQ-HKE",
        "colab_type": "code",
        "colab": {
          "base_uri": "https://localhost:8080/",
          "height": 34
        },
        "outputId": "fae064ab-cebe-4b36-8369-aec1cfe98e63"
      },
      "cell_type": "code",
      "source": [
        "X_train.shape[0]"
      ],
      "execution_count": 5,
      "outputs": [
        {
          "output_type": "execute_result",
          "data": {
            "text/plain": [
              "60000"
            ]
          },
          "metadata": {
            "tags": []
          },
          "execution_count": 5
        }
      ]
    },
    {
      "metadata": {
        "id": "qxeYVzNo9pJm",
        "colab_type": "code",
        "colab": {}
      },
      "cell_type": "code",
      "source": [
        "X_train = X_train.reshape(X_train.shape[0], 28, 28, 1)\n",
        "X_test = X_test.reshape(X_test.shape[0], 28, 28, 1)"
      ],
      "execution_count": 0,
      "outputs": []
    },
    {
      "metadata": {
        "id": "O252Uf35-S0a",
        "colab_type": "code",
        "colab": {}
      },
      "cell_type": "code",
      "source": [
        "X_train = X_train.astype('float32')\n",
        "X_test = X_test.astype('float32')\n",
        "X_train /= 255\n",
        "X_test /= 255"
      ],
      "execution_count": 0,
      "outputs": []
    },
    {
      "metadata": {
        "id": "gCCiBCa4_G_0",
        "colab_type": "code",
        "colab": {
          "base_uri": "https://localhost:8080/",
          "height": 34
        },
        "outputId": "11efc194-9386-4c2e-daf3-ad0149462b7f"
      },
      "cell_type": "code",
      "source": [
        "y_train[:10]"
      ],
      "execution_count": 8,
      "outputs": [
        {
          "output_type": "execute_result",
          "data": {
            "text/plain": [
              "array([5, 0, 4, 1, 9, 2, 1, 3, 1, 4], dtype=uint8)"
            ]
          },
          "metadata": {
            "tags": []
          },
          "execution_count": 8
        }
      ]
    },
    {
      "metadata": {
        "id": "s9kJh3fDBB6k",
        "colab_type": "code",
        "colab": {}
      },
      "cell_type": "code",
      "source": [
        "Y_train = np_utils.to_categorical(y_train, 10)\n",
        "Y_test = np_utils.to_categorical(y_test, 10)"
      ],
      "execution_count": 0,
      "outputs": []
    },
    {
      "metadata": {
        "id": "pY6fZvm0BZZG",
        "colab_type": "code",
        "colab": {
          "base_uri": "https://localhost:8080/",
          "height": 191
        },
        "outputId": "12822197-1f74-4cd8-e440-ca81de8f0926"
      },
      "cell_type": "code",
      "source": [
        "Y_train[:10]"
      ],
      "execution_count": 10,
      "outputs": [
        {
          "output_type": "execute_result",
          "data": {
            "text/plain": [
              "array([[0., 0., 0., 0., 0., 1., 0., 0., 0., 0.],\n",
              "       [1., 0., 0., 0., 0., 0., 0., 0., 0., 0.],\n",
              "       [0., 0., 0., 0., 1., 0., 0., 0., 0., 0.],\n",
              "       [0., 1., 0., 0., 0., 0., 0., 0., 0., 0.],\n",
              "       [0., 0., 0., 0., 0., 0., 0., 0., 0., 1.],\n",
              "       [0., 0., 1., 0., 0., 0., 0., 0., 0., 0.],\n",
              "       [0., 1., 0., 0., 0., 0., 0., 0., 0., 0.],\n",
              "       [0., 0., 0., 1., 0., 0., 0., 0., 0., 0.],\n",
              "       [0., 1., 0., 0., 0., 0., 0., 0., 0., 0.],\n",
              "       [0., 0., 0., 0., 1., 0., 0., 0., 0., 0.]], dtype=float32)"
            ]
          },
          "metadata": {
            "tags": []
          },
          "execution_count": 10
        }
      ]
    },
    {
      "metadata": {
        "id": "4Hr5Y3HcBjMq",
        "colab_type": "code",
        "colab": {
          "base_uri": "https://localhost:8080/",
          "height": 86
        },
        "outputId": "574c5661-2ee1-49ea-f7e5-68f504a683bc"
      },
      "cell_type": "code",
      "source": [
        "from keras.layers import Activation\n",
        "model = Sequential()\n",
        "\n",
        "model.add(Convolution2D(32, 3, 3, activation='relu', input_shape=(28, 28, 1)))\n",
        "# This gives an output of 26 x 26 x 32, which feeds into the next layer as input\n",
        "model.add(Convolution2D(20, 3, 3, activation='relu'))\n",
        "# This yields 24 x 24 x 20\n",
        "model.add(Convolution2D(10, 1, activation='relu'))\n",
        "# This gives an output of 24 x 24 x 10\n",
        "model.add(Convolution2D(10, 24))\n",
        "# The final output from the above convolution is 1 x 1 x 10\n",
        "model.add(Flatten())\n",
        "model.add(Activation('softmax'))"
      ],
      "execution_count": 11,
      "outputs": [
        {
          "output_type": "stream",
          "text": [
            "/usr/local/lib/python3.6/dist-packages/ipykernel_launcher.py:4: UserWarning: Update your `Conv2D` call to the Keras 2 API: `Conv2D(32, (3, 3), activation=\"relu\", input_shape=(28, 28, 1...)`\n",
            "  after removing the cwd from sys.path.\n",
            "/usr/local/lib/python3.6/dist-packages/ipykernel_launcher.py:6: UserWarning: Update your `Conv2D` call to the Keras 2 API: `Conv2D(20, (3, 3), activation=\"relu\")`\n",
            "  \n"
          ],
          "name": "stderr"
        }
      ]
    },
    {
      "metadata": {
        "id": "w6kBnEn-Cjja",
        "colab_type": "code",
        "colab": {
          "base_uri": "https://localhost:8080/",
          "height": 347
        },
        "outputId": "12ae9d2c-7b10-4dbc-a42a-12d989913806"
      },
      "cell_type": "code",
      "source": [
        "model.summary()"
      ],
      "execution_count": 12,
      "outputs": [
        {
          "output_type": "stream",
          "text": [
            "_________________________________________________________________\n",
            "Layer (type)                 Output Shape              Param #   \n",
            "=================================================================\n",
            "conv2d_1 (Conv2D)            (None, 26, 26, 32)        320       \n",
            "_________________________________________________________________\n",
            "conv2d_2 (Conv2D)            (None, 24, 24, 20)        5780      \n",
            "_________________________________________________________________\n",
            "conv2d_3 (Conv2D)            (None, 24, 24, 10)        210       \n",
            "_________________________________________________________________\n",
            "conv2d_4 (Conv2D)            (None, 1, 1, 10)          57610     \n",
            "_________________________________________________________________\n",
            "flatten_1 (Flatten)          (None, 10)                0         \n",
            "_________________________________________________________________\n",
            "activation_1 (Activation)    (None, 10)                0         \n",
            "=================================================================\n",
            "Total params: 63,920\n",
            "Trainable params: 63,920\n",
            "Non-trainable params: 0\n",
            "_________________________________________________________________\n"
          ],
          "name": "stdout"
        }
      ]
    },
    {
      "metadata": {
        "id": "9pXb00hOk0bg",
        "colab_type": "code",
        "colab": {}
      },
      "cell_type": "code",
      "source": [
        "model.compile(loss='categorical_crossentropy', optimizer='adam', metrics=['accuracy'])"
      ],
      "execution_count": 0,
      "outputs": []
    },
    {
      "metadata": {
        "id": "snEE34C_lhL6",
        "colab_type": "code",
        "colab": {
          "base_uri": "https://localhost:8080/",
          "height": 416
        },
        "outputId": "33f22d62-59b7-47c7-a471-7948e37d2740"
      },
      "cell_type": "code",
      "source": [
        "model.fit(X_train, Y_train, batch_size=32, nb_epoch=10, verbose=1)"
      ],
      "execution_count": 14,
      "outputs": [
        {
          "output_type": "stream",
          "text": [
            "/usr/local/lib/python3.6/dist-packages/keras/models.py:981: UserWarning: The `nb_epoch` argument in `fit` has been renamed `epochs`.\n",
            "  warnings.warn('The `nb_epoch` argument in `fit` '\n"
          ],
          "name": "stderr"
        },
        {
          "output_type": "stream",
          "text": [
            "Epoch 1/10\n",
            "60000/60000 [==============================] - 22s 370us/step - loss: 0.1522 - acc: 0.9561\n",
            "Epoch 2/10\n",
            "50720/60000 [========================>.....] - ETA: 3s - loss: 0.0570 - acc: 0.9830"
          ],
          "name": "stdout"
        },
        {
          "output_type": "stream",
          "text": [
            "60000/60000 [==============================] - 21s 351us/step - loss: 0.0563 - acc: 0.9831\n",
            "Epoch 3/10\n",
            "60000/60000 [==============================] - 21s 350us/step - loss: 0.0385 - acc: 0.9879\n",
            "Epoch 4/10\n",
            "12736/60000 [=====>........................] - ETA: 16s - loss: 0.0259 - acc: 0.9925"
          ],
          "name": "stdout"
        },
        {
          "output_type": "stream",
          "text": [
            "60000/60000 [==============================] - 21s 350us/step - loss: 0.0290 - acc: 0.9908\n",
            "Epoch 5/10\n",
            "60000/60000 [==============================] - 21s 352us/step - loss: 0.0212 - acc: 0.9929\n",
            "Epoch 6/10\n",
            " 1472/60000 [..............................] - ETA: 20s - loss: 0.0190 - acc: 0.9932"
          ],
          "name": "stdout"
        },
        {
          "output_type": "stream",
          "text": [
            "60000/60000 [==============================] - 21s 350us/step - loss: 0.0180 - acc: 0.9940\n",
            "Epoch 7/10\n",
            "58208/60000 [============================>.] - ETA: 0s - loss: 0.0127 - acc: 0.9957"
          ],
          "name": "stdout"
        },
        {
          "output_type": "stream",
          "text": [
            "60000/60000 [==============================] - 21s 349us/step - loss: 0.0128 - acc: 0.9957\n",
            "Epoch 8/10\n",
            "60000/60000 [==============================] - 21s 350us/step - loss: 0.0127 - acc: 0.9956\n",
            "Epoch 9/10\n",
            "14720/60000 [======>.......................] - ETA: 15s - loss: 0.0066 - acc: 0.9980"
          ],
          "name": "stdout"
        },
        {
          "output_type": "stream",
          "text": [
            "60000/60000 [==============================] - 21s 351us/step - loss: 0.0090 - acc: 0.9971\n",
            "Epoch 10/10\n",
            "60000/60000 [==============================] - 21s 352us/step - loss: 0.0073 - acc: 0.9976\n"
          ],
          "name": "stdout"
        },
        {
          "output_type": "execute_result",
          "data": {
            "text/plain": [
              "<keras.callbacks.History at 0x7f3b6dde5a20>"
            ]
          },
          "metadata": {
            "tags": []
          },
          "execution_count": 14
        }
      ]
    },
    {
      "metadata": {
        "id": "GtX507bomcQQ",
        "colab_type": "code",
        "colab": {}
      },
      "cell_type": "code",
      "source": [
        "score = model.evaluate(X_test, Y_test, verbose=0)"
      ],
      "execution_count": 0,
      "outputs": []
    },
    {
      "metadata": {
        "id": "nhkXCoPtmtkK",
        "colab_type": "code",
        "colab": {
          "base_uri": "https://localhost:8080/",
          "height": 34
        },
        "outputId": "d9012661-0143-4b52-db2d-1519a5c2f1b1"
      },
      "cell_type": "code",
      "source": [
        "print(score)"
      ],
      "execution_count": 16,
      "outputs": [
        {
          "output_type": "stream",
          "text": [
            "[0.07312042639493739, 0.983]\n"
          ],
          "name": "stdout"
        }
      ]
    },
    {
      "metadata": {
        "id": "HJ-r1Ohtm4Gg",
        "colab_type": "code",
        "colab": {}
      },
      "cell_type": "code",
      "source": [
        "y_pred = model.predict(X_test)"
      ],
      "execution_count": 0,
      "outputs": []
    },
    {
      "metadata": {
        "id": "qFBp52blm8pK",
        "colab_type": "code",
        "colab": {
          "base_uri": "https://localhost:8080/",
          "height": 503
        },
        "outputId": "d22de564-321d-4ed7-e9b8-ee5f9f44cf08"
      },
      "cell_type": "code",
      "source": [
        "print(y_pred[:9])\n",
        "print(y_test[:9])"
      ],
      "execution_count": 18,
      "outputs": [
        {
          "output_type": "stream",
          "text": [
            "[[2.32128076e-19 4.40732707e-23 9.41981546e-14 8.00100403e-11\n",
            "  9.97100364e-25 2.99294548e-19 4.14574817e-33 1.00000000e+00\n",
            "  1.44003516e-12 3.91168760e-13]\n",
            " [3.59795085e-16 2.77227717e-14 1.00000000e+00 2.07766078e-16\n",
            "  3.36003346e-25 7.91899808e-20 2.70576123e-13 3.21128432e-24\n",
            "  1.22685311e-15 1.82456672e-20]\n",
            " [1.57578200e-10 9.99999046e-01 9.54367030e-10 1.43388204e-10\n",
            "  1.91250507e-07 1.39621594e-08 1.48263510e-07 1.40698608e-09\n",
            "  5.75471347e-07 1.23190286e-11]\n",
            " [1.00000000e+00 1.23913958e-21 8.55222737e-09 2.05251347e-14\n",
            "  1.63648751e-18 9.35078973e-14 2.74771855e-11 3.28569942e-14\n",
            "  2.20874859e-13 4.84762241e-13]\n",
            " [1.92134902e-11 7.38564591e-13 7.27124507e-15 5.92119409e-12\n",
            "  9.99991298e-01 8.49195197e-19 6.86734444e-19 2.03382538e-14\n",
            "  1.09402584e-10 8.69111045e-06]\n",
            " [5.99786262e-11 9.99981165e-01 2.97012304e-09 1.38569975e-10\n",
            "  9.56234089e-06 1.94613770e-10 1.28070310e-09 3.76896492e-06\n",
            "  5.46496494e-06 2.34454595e-10]\n",
            " [4.71783250e-23 4.92867635e-14 1.71523906e-12 1.93833071e-15\n",
            "  9.99996305e-01 2.89356592e-13 1.69812644e-23 6.13939108e-12\n",
            "  3.48517051e-06 2.04794006e-07]\n",
            " [1.26325036e-30 3.09063712e-12 2.00704145e-13 4.99051430e-13\n",
            "  1.38193471e-07 2.29624219e-11 1.28899948e-18 5.05122556e-18\n",
            "  1.02960072e-07 9.99999762e-01]\n",
            " [1.43161888e-04 6.80001012e-20 7.24185523e-14 1.73148960e-11\n",
            "  5.79461132e-12 2.12914079e-01 7.85157084e-01 3.94274812e-17\n",
            "  1.78569905e-03 1.05216643e-11]]\n",
            "[7 2 1 0 4 1 4 9 5]\n"
          ],
          "name": "stdout"
        }
      ]
    },
    {
      "metadata": {
        "id": "V2Gca2xlnSU8",
        "colab_type": "code",
        "colab": {
          "base_uri": "https://localhost:8080/",
          "height": 54
        },
        "outputId": "f4b7abef-9703-4e62-b0ce-1e37c866ea98"
      },
      "cell_type": "code",
      "source": [
        "layer_dict = dict([(layer.name, layer) for layer in model.layers])\n",
        "print(layer_dict)"
      ],
      "execution_count": 19,
      "outputs": [
        {
          "output_type": "stream",
          "text": [
            "{'conv2d_1': <keras.layers.convolutional.Conv2D object at 0x7f3b6dd3ecf8>, 'conv2d_2': <keras.layers.convolutional.Conv2D object at 0x7f3b6ddb09e8>, 'conv2d_3': <keras.layers.convolutional.Conv2D object at 0x7f3b6dddea58>, 'conv2d_4': <keras.layers.convolutional.Conv2D object at 0x7f3b6dd5e390>, 'flatten_1': <keras.layers.core.Flatten object at 0x7f3b62956668>, 'activation_1': <keras.layers.core.Activation object at 0x7f3b6296a198>}\n"
          ],
          "name": "stdout"
        }
      ]
    },
    {
      "metadata": {
        "id": "wb1pRdv4utwu",
        "colab_type": "code",
        "colab": {
          "base_uri": "https://localhost:8080/",
          "height": 839
        },
        "outputId": "1811f4bb-74db-47e5-e696-302bd3cd01ac"
      },
      "cell_type": "code",
      "source": [
        "import numpy as np\n",
        "from matplotlib import pyplot as plt\n",
        "from keras import backend as K\n",
        "%matplotlib inline\n",
        "# util function to convert a tensor into a valid image\n",
        "def deprocess_image(x):\n",
        "  # normalize tensor: center on 0., sensure std is 0.1\n",
        "  x -= x.mean()\n",
        "  x /= (x.std() + 1e-5)\n",
        "  x *= 0.1\n",
        "  \n",
        "  # clip to [0, 1]\n",
        "  x += 0.5\n",
        "  x = np.clip(x, 0, 1)\n",
        "  \n",
        "  # convert to RGB array\n",
        "  x *= 255\n",
        "  #x = x.transpose((1, 2, 0))\n",
        "  x = np.clip(x, 0, 255).astype('uint8')\n",
        "  return x\n",
        "\n",
        "def vis_img_in_filter(img = np.array(X_train[2]).reshape((1, 28, 28, 1)).astype(np.float64), layer_name = 'conv2d_1'):\n",
        "  layer_output = layer_dict[layer_name].output\n",
        "  img_ascs = list()\n",
        "  for filter_index in range(layer_output.shape[3]):\n",
        "    # build a loss function that maximizes the activation\n",
        "    # of the nth filter of the layer considered\n",
        "    loss = K.mean(layer_output[:, :, :, filter_index])\n",
        "    \n",
        "    # compute the gradient of the input picture wrt this loss\n",
        "    grads = K.gradients(loss, model.input)[0]\n",
        "    \n",
        "    # normalization trick: we normalize the gradient\n",
        "    grads /= (K.sqrt(K.mean(K.square(grads))) + 1e-5)\n",
        "    \n",
        "    # this function returns the loss and grads given the input picture\n",
        "    iterate = K.function([model.input], [loss, grads])\n",
        "    \n",
        "    # step size for gradient ascent\n",
        "    step = 5.\n",
        "    \n",
        "    img_asc = np.array(img)\n",
        "    # run gradient ascent for 20 steps\n",
        "    for i in range(20):\n",
        "      loss_value, grads_value = iterate([img_asc])\n",
        "      img_asc += grads_value * step\n",
        "      \n",
        "    img_asc = img_asc[0]\n",
        "    img_ascs.append(deprocess_image(img_asc).reshape((28, 28)))\n",
        "    \n",
        "  if layer_output.shape[3] >= 35:\n",
        "    plot_x, plot_y = 6, 6\n",
        "  elif layer_output.shape[3] >= 23:\n",
        "    plot_x, plot_y = 4, 6\n",
        "  elif layer_output.shape[3] >= 11:\n",
        "    plot_x, plot_y = 2, 6\n",
        "  else:\n",
        "    plot_x, plot_y = 1, 2\n",
        "  \n",
        "  fig, ax = plt.subplots(plot_x, plot_y, figsize = (12, 12))\n",
        "  ax[0, 0].imshow(img.reshape((28, 28)), cmap = 'gray')\n",
        "  ax[0, 0].set_title('Input Image')\n",
        "  fig.suptitle('Input image and %s filters' % (layer_name, ))\n",
        "  fig.tight_layout(pad = 0.3, rect = [0, 0, 0.9, 0.9])\n",
        "  for (x, y) in [(i, j) for i in range(plot_x) for j in range(plot_y)]:\n",
        "    if x == 0 and y == 0:\n",
        "      continue\n",
        "    ax[x, y].imshow(img_ascs[x * plot_y + y - 1], cmap = 'gray')\n",
        "    ax[x, y].set_title('filter %d' % (x * plot_y + y - 1))\n",
        "    \n",
        "vis_img_in_filter()\n",
        "\n",
        "    \n",
        " "
      ],
      "execution_count": 20,
      "outputs": [
        {
          "output_type": "display_data",
          "data": {
            "image/png": "[encoded data removed]",
            "text/plain": [
              "<matplotlib.figure.Figure at 0x7f3b5186f8d0>"
            ]
          },
          "metadata": {
            "tags": []
          }
        }
      ]
    }
  ]
}