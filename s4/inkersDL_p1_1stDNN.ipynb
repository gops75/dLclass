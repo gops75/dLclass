{
  "nbformat": 4,
  "nbformat_minor": 0,
  "metadata": {
    "colab": {
      "name": "inkersDL_p1_1stDNN.ipynb",
      "version": "0.3.2",
      "provenance": [],
      "collapsed_sections": []
    },
    "kernelspec": {
      "name": "python3",
      "display_name": "Python 3"
    },
    "accelerator": "GPU"
  },
  "cells": [
    {
      "cell_type": "markdown",
      "metadata": {
        "id": "view-in-github",
        "colab_type": "text"
      },
      "source": [
        "[View in Colaboratory](https://colab.research.google.com/github/gops75/dLclass/blob/master/s4/inkersDL_p1_1stDNN.ipynb)"
      ]
    },
    {
      "metadata": {
        "id": "N6bVEPRq1Xxu",
        "colab_type": "code",
        "colab": {
          "base_uri": "https://localhost:8080/",
          "height": 141
        },
        "outputId": "d04d415c-b4da-46b5-d5f8-87591cbd2e43"
      },
      "cell_type": "code",
      "source": [
        "!pip install keras"
      ],
      "execution_count": 1,
      "outputs": [
        {
          "output_type": "stream",
          "text": [
            "Requirement already satisfied: keras in /usr/local/lib/python3.6/dist-packages (2.1.6)\r\n",
            "Requirement already satisfied: scipy>=0.14 in /usr/local/lib/python3.6/dist-packages (from keras) (0.19.1)\r\n",
            "Requirement already satisfied: numpy>=1.9.1 in /usr/local/lib/python3.6/dist-packages (from keras) (1.14.3)\r\n",
            "Requirement already satisfied: pyyaml in /usr/local/lib/python3.6/dist-packages (from keras) (3.12)\r\n",
            "Requirement already satisfied: six>=1.9.0 in /usr/local/lib/python3.6/dist-packages (from keras) (1.11.0)\r\n",
            "Requirement already satisfied: h5py in /usr/local/lib/python3.6/dist-packages (from keras) (2.7.1)\r\n"
          ],
          "name": "stdout"
        }
      ]
    },
    {
      "metadata": {
        "id": "QKvjKuGe3TzA",
        "colab_type": "code",
        "colab": {
          "base_uri": "https://localhost:8080/",
          "height": 34
        },
        "outputId": "aee5d686-3e99-4258-e9bc-5735e605c355"
      },
      "cell_type": "code",
      "source": [
        "import tensorflow as tf\n",
        "tf.test.gpu_device_name()"
      ],
      "execution_count": 42,
      "outputs": [
        {
          "output_type": "execute_result",
          "data": {
            "text/plain": [
              "'/device:GPU:0'"
            ]
          },
          "metadata": {
            "tags": []
          },
          "execution_count": 42
        }
      ]
    },
    {
      "metadata": {
        "id": "V22MwmuPytxy",
        "colab_type": "code",
        "colab": {}
      },
      "cell_type": "code",
      "source": [
        "import numpy as np\n",
        "from keras.models import Sequential\n",
        "from keras.layers import Dense, Dropout, Activation, Flatten, Add\n",
        "from keras.layers import Convolution2D, MaxPooling2D\n",
        "from keras.utils import np_utils\n",
        "from keras.datasets import mnist"
      ],
      "execution_count": 0,
      "outputs": []
    },
    {
      "metadata": {
        "id": "dUPRHYeQziam",
        "colab_type": "code",
        "colab": {}
      },
      "cell_type": "code",
      "source": [
        "(X_train, y_train), (X_test, y_test) = mnist.load_data()"
      ],
      "execution_count": 0,
      "outputs": []
    },
    {
      "metadata": {
        "id": "ypJAkpQz9SnS",
        "colab_type": "code",
        "colab": {
          "base_uri": "https://localhost:8080/",
          "height": 300
        },
        "outputId": "4be1dc69-9d91-4b34-f287-b4216af4c1f8"
      },
      "cell_type": "code",
      "source": [
        "print(X_train.shape)\n",
        "from matplotlib import pyplot as plt\n",
        "%matplotlib inline\n",
        "plt.imshow(X_train[0])"
      ],
      "execution_count": 45,
      "outputs": [
        {
          "output_type": "stream",
          "text": [
            "(60000, 28, 28)\n"
          ],
          "name": "stdout"
        },
        {
          "output_type": "execute_result",
          "data": {
            "text/plain": [
              "<matplotlib.image.AxesImage at 0x7f3b515b6278>"
            ]
          },
          "metadata": {
            "tags": []
          },
          "execution_count": 45
        },
        {
          "output_type": "display_data",
          "data": {
            "image/png": "[encoded data removed]",
            "text/plain": [
              "<matplotlib.figure.Figure at 0x7f3b50b4dda0>"
            ]
          },
          "metadata": {
            "tags": []
          }
        }
      ]
    },
    {
      "metadata": {
        "id": "_mmRQJxQ-HKE",
        "colab_type": "code",
        "colab": {
          "base_uri": "https://localhost:8080/",
          "height": 34
        },
        "outputId": "d577c179-2396-4827-89d4-f788b1df7eb1"
      },
      "cell_type": "code",
      "source": [
        "X_train.shape[0]"
      ],
      "execution_count": 46,
      "outputs": [
        {
          "output_type": "execute_result",
          "data": {
            "text/plain": [
              "60000"
            ]
          },
          "metadata": {
            "tags": []
          },
          "execution_count": 46
        }
      ]
    },
    {
      "metadata": {
        "id": "qxeYVzNo9pJm",
        "colab_type": "code",
        "colab": {}
      },
      "cell_type": "code",
      "source": [
        "X_train = X_train.reshape(X_train.shape[0], 28, 28, 1)\n",
        "X_test = X_test.reshape(X_test.shape[0], 28, 28, 1)"
      ],
      "execution_count": 0,
      "outputs": []
    },
    {
      "metadata": {
        "id": "O252Uf35-S0a",
        "colab_type": "code",
        "colab": {}
      },
      "cell_type": "code",
      "source": [
        "X_train = X_train.astype('float32')\n",
        "X_test = X_test.astype('float32')\n",
        "X_train /= 255\n",
        "X_test /= 255"
      ],
      "execution_count": 0,
      "outputs": []
    },
    {
      "metadata": {
        "id": "gCCiBCa4_G_0",
        "colab_type": "code",
        "colab": {
          "base_uri": "https://localhost:8080/",
          "height": 34
        },
        "outputId": "7aad81f0-61ab-4a40-ebcd-8580b2c0657d"
      },
      "cell_type": "code",
      "source": [
        "y_train[:10]"
      ],
      "execution_count": 49,
      "outputs": [
        {
          "output_type": "execute_result",
          "data": {
            "text/plain": [
              "array([5, 0, 4, 1, 9, 2, 1, 3, 1, 4], dtype=uint8)"
            ]
          },
          "metadata": {
            "tags": []
          },
          "execution_count": 49
        }
      ]
    },
    {
      "metadata": {
        "id": "s9kJh3fDBB6k",
        "colab_type": "code",
        "colab": {}
      },
      "cell_type": "code",
      "source": [
        "Y_train = np_utils.to_categorical(y_train, 10)\n",
        "Y_test = np_utils.to_categorical(y_test, 10)"
      ],
      "execution_count": 0,
      "outputs": []
    },
    {
      "metadata": {
        "id": "pY6fZvm0BZZG",
        "colab_type": "code",
        "colab": {
          "base_uri": "https://localhost:8080/",
          "height": 191
        },
        "outputId": "c02a92ea-f5d1-4402-f58e-6d670a6c0a25"
      },
      "cell_type": "code",
      "source": [
        "Y_train[:10]"
      ],
      "execution_count": 51,
      "outputs": [
        {
          "output_type": "execute_result",
          "data": {
            "text/plain": [
              "array([[0., 0., 0., 0., 0., 1., 0., 0., 0., 0.],\n",
              "       [1., 0., 0., 0., 0., 0., 0., 0., 0., 0.],\n",
              "       [0., 0., 0., 0., 1., 0., 0., 0., 0., 0.],\n",
              "       [0., 1., 0., 0., 0., 0., 0., 0., 0., 0.],\n",
              "       [0., 0., 0., 0., 0., 0., 0., 0., 0., 1.],\n",
              "       [0., 0., 1., 0., 0., 0., 0., 0., 0., 0.],\n",
              "       [0., 1., 0., 0., 0., 0., 0., 0., 0., 0.],\n",
              "       [0., 0., 0., 1., 0., 0., 0., 0., 0., 0.],\n",
              "       [0., 1., 0., 0., 0., 0., 0., 0., 0., 0.],\n",
              "       [0., 0., 0., 0., 1., 0., 0., 0., 0., 0.]], dtype=float32)"
            ]
          },
          "metadata": {
            "tags": []
          },
          "execution_count": 51
        }
      ]
    },
    {
      "metadata": {
        "id": "4Hr5Y3HcBjMq",
        "colab_type": "code",
        "colab": {
          "base_uri": "https://localhost:8080/",
          "height": 86
        },
        "outputId": "0f5df545-0c44-4248-be44-0269850f5650"
      },
      "cell_type": "code",
      "source": [
        "from keras.layers import Activation\n",
        "model = Sequential()\n",
        "\n",
        "model.add(Convolution2D(32, 3, 3, activation='relu', input_shape=(28, 28, 1)))\n",
        "# This gives an output of 26 x 26 x 32, which feeds into the next layer as input\n",
        "model.add(Convolution2D(20, 3, 3, activation='relu'))\n",
        "# This yields 24 x 24 x 20\n",
        "model.add(Convolution2D(10, 1, activation='relu'))\n",
        "# This gives an output of 24 x 24 x 10\n",
        "model.add(Convolution2D(10, 24))\n",
        "# The final output from the above convolution is 1 x 1 x 10\n",
        "model.add(Flatten())\n",
        "model.add(Activation('softmax'))"
      ],
      "execution_count": 52,
      "outputs": [
        {
          "output_type": "stream",
          "text": [
            "/usr/local/lib/python3.6/dist-packages/ipykernel_launcher.py:4: UserWarning: Update your `Conv2D` call to the Keras 2 API: `Conv2D(32, (3, 3), activation=\"relu\", input_shape=(28, 28, 1...)`\n",
            "  after removing the cwd from sys.path.\n",
            "/usr/local/lib/python3.6/dist-packages/ipykernel_launcher.py:6: UserWarning: Update your `Conv2D` call to the Keras 2 API: `Conv2D(20, (3, 3), activation=\"relu\")`\n",
            "  \n"
          ],
          "name": "stderr"
        }
      ]
    },
    {
      "metadata": {
        "id": "w6kBnEn-Cjja",
        "colab_type": "code",
        "colab": {
          "base_uri": "https://localhost:8080/",
          "height": 347
        },
        "outputId": "5f375253-9142-4310-909f-e8d280319769"
      },
      "cell_type": "code",
      "source": [
        "model.summary()"
      ],
      "execution_count": 53,
      "outputs": [
        {
          "output_type": "stream",
          "text": [
            "_________________________________________________________________\n",
            "Layer (type)                 Output Shape              Param #   \n",
            "=================================================================\n",
            "conv2d_9 (Conv2D)            (None, 26, 26, 32)        320       \n",
            "_________________________________________________________________\n",
            "conv2d_10 (Conv2D)           (None, 24, 24, 20)        5780      \n",
            "_________________________________________________________________\n",
            "conv2d_11 (Conv2D)           (None, 24, 24, 10)        210       \n",
            "_________________________________________________________________\n",
            "conv2d_12 (Conv2D)           (None, 1, 1, 10)          57610     \n",
            "_________________________________________________________________\n",
            "flatten_3 (Flatten)          (None, 10)                0         \n",
            "_________________________________________________________________\n",
            "activation_3 (Activation)    (None, 10)                0         \n",
            "=================================================================\n",
            "Total params: 63,920\n",
            "Trainable params: 63,920\n",
            "Non-trainable params: 0\n",
            "_________________________________________________________________\n"
          ],
          "name": "stdout"
        }
      ]
    },
    {
      "metadata": {
        "id": "9pXb00hOk0bg",
        "colab_type": "code",
        "colab": {}
      },
      "cell_type": "code",
      "source": [
        "model.compile(loss='categorical_crossentropy', optimizer='adam', metrics=['accuracy'])"
      ],
      "execution_count": 0,
      "outputs": []
    },
    {
      "metadata": {
        "id": "snEE34C_lhL6",
        "colab_type": "code",
        "colab": {
          "base_uri": "https://localhost:8080/",
          "height": 436
        },
        "outputId": "087931c9-5e51-4991-967b-9847ff23d5af"
      },
      "cell_type": "code",
      "source": [
        "model.fit(X_train, Y_train, batch_size=32, nb_epoch=10, verbose=1)"
      ],
      "execution_count": 58,
      "outputs": [
        {
          "output_type": "stream",
          "text": [
            "Epoch 1/10\n",
            "  512/60000 [..............................] - ETA: 22s - loss: 0.0010 - acc: 1.0000    "
          ],
          "name": "stdout"
        },
        {
          "output_type": "stream",
          "text": [
            "/usr/local/lib/python3.6/dist-packages/keras/models.py:981: UserWarning: The `nb_epoch` argument in `fit` has been renamed `epochs`.\n",
            "  warnings.warn('The `nb_epoch` argument in `fit` '\n"
          ],
          "name": "stderr"
        },
        {
          "output_type": "stream",
          "text": [
            "60000/60000 [==============================] - 21s 351us/step - loss: 0.0078 - acc: 0.9972\n",
            "Epoch 2/10\n",
            "57376/60000 [===========================>..] - ETA: 0s - loss: 0.0062 - acc: 0.9981"
          ],
          "name": "stdout"
        },
        {
          "output_type": "stream",
          "text": [
            "60000/60000 [==============================] - 21s 356us/step - loss: 0.0063 - acc: 0.9980\n",
            "Epoch 3/10\n",
            "60000/60000 [==============================] - 21s 349us/step - loss: 0.0057 - acc: 0.9983\n",
            "Epoch 4/10\n",
            "14624/60000 [======>.......................] - ETA: 15s - loss: 0.0056 - acc: 0.9983"
          ],
          "name": "stdout"
        },
        {
          "output_type": "stream",
          "text": [
            "60000/60000 [==============================] - 21s 349us/step - loss: 0.0059 - acc: 0.9981\n",
            "Epoch 5/10\n",
            "60000/60000 [==============================] - 21s 351us/step - loss: 0.0057 - acc: 0.9984\n",
            "Epoch 6/10\n",
            " 2272/60000 [>.............................] - ETA: 20s - loss: 0.0048 - acc: 0.9991"
          ],
          "name": "stdout"
        },
        {
          "output_type": "stream",
          "text": [
            "60000/60000 [==============================] - 21s 351us/step - loss: 0.0051 - acc: 0.9984\n",
            "Epoch 7/10\n",
            "58560/60000 [============================>.] - ETA: 0s - loss: 0.0063 - acc: 0.9980"
          ],
          "name": "stdout"
        },
        {
          "output_type": "stream",
          "text": [
            "60000/60000 [==============================] - 21s 351us/step - loss: 0.0061 - acc: 0.9980\n",
            "Epoch 8/10\n",
            "60000/60000 [==============================] - 21s 351us/step - loss: 0.0040 - acc: 0.9988\n",
            "Epoch 9/10\n",
            "15008/60000 [======>.......................] - ETA: 15s - loss: 0.0031 - acc: 0.9991"
          ],
          "name": "stdout"
        },
        {
          "output_type": "stream",
          "text": [
            "60000/60000 [==============================] - 21s 350us/step - loss: 0.0042 - acc: 0.9987\n",
            "Epoch 10/10\n",
            "60000/60000 [==============================] - 21s 352us/step - loss: 0.0034 - acc: 0.9989\n"
          ],
          "name": "stdout"
        },
        {
          "output_type": "execute_result",
          "data": {
            "text/plain": [
              "<keras.callbacks.History at 0x7f3b51676a20>"
            ]
          },
          "metadata": {
            "tags": []
          },
          "execution_count": 58
        }
      ]
    },
    {
      "metadata": {
        "id": "GtX507bomcQQ",
        "colab_type": "code",
        "colab": {}
      },
      "cell_type": "code",
      "source": [
        "score = model.evaluate(X_test, Y_test, verbose=0)"
      ],
      "execution_count": 0,
      "outputs": []
    },
    {
      "metadata": {
        "id": "nhkXCoPtmtkK",
        "colab_type": "code",
        "colab": {
          "base_uri": "https://localhost:8080/",
          "height": 34
        },
        "outputId": "cb6c8d81-3836-4df5-a887-eaf09801bc7c"
      },
      "cell_type": "code",
      "source": [
        "print(score)"
      ],
      "execution_count": 60,
      "outputs": [
        {
          "output_type": "stream",
          "text": [
            "[0.10182456865962997, 0.9839]\n"
          ],
          "name": "stdout"
        }
      ]
    },
    {
      "metadata": {
        "id": "HJ-r1Ohtm4Gg",
        "colab_type": "code",
        "colab": {}
      },
      "cell_type": "code",
      "source": [
        "y_pred = model.predict(X_test)"
      ],
      "execution_count": 0,
      "outputs": []
    },
    {
      "metadata": {
        "id": "qFBp52blm8pK",
        "colab_type": "code",
        "colab": {
          "base_uri": "https://localhost:8080/",
          "height": 503
        },
        "outputId": "231716bc-bff5-421b-ba01-9f0e9a40e3a5"
      },
      "cell_type": "code",
      "source": [
        "print(y_pred[:9])\n",
        "print(y_test[:9])"
      ],
      "execution_count": 62,
      "outputs": [
        {
          "output_type": "stream",
          "text": [
            "[[4.26509574e-33 6.76806448e-32 4.29295025e-22 1.05686442e-13\n",
            "  0.00000000e+00 5.55992623e-28 0.00000000e+00 1.00000000e+00\n",
            "  2.55499189e-23 5.36036544e-21]\n",
            " [9.90729807e-12 5.54028134e-12 1.00000000e+00 7.86912073e-15\n",
            "  4.83532446e-27 1.74380437e-21 3.85324342e-11 1.25847658e-27\n",
            "  2.56817577e-14 1.94839291e-20]\n",
            " [1.59697412e-11 9.99999523e-01 8.23687576e-11 2.71466521e-14\n",
            "  2.83554755e-07 3.32590483e-11 1.07170681e-13 1.10392811e-07\n",
            "  7.11023702e-08 2.75261212e-14]\n",
            " [1.00000000e+00 2.29266808e-29 3.00025290e-17 8.56084991e-19\n",
            "  4.58393282e-28 8.37261220e-22 9.30923175e-15 8.76021686e-20\n",
            "  2.29573175e-21 1.08518635e-17]\n",
            " [2.75645221e-19 5.46678684e-25 2.96094574e-18 5.75893896e-19\n",
            "  1.00000000e+00 1.62023085e-19 2.26974745e-21 3.28190369e-14\n",
            "  1.79548695e-10 2.37871678e-09]\n",
            " [8.23146279e-14 9.99999762e-01 2.13080144e-11 5.71351649e-17\n",
            "  3.74715992e-09 1.92489741e-15 6.83546820e-18 2.63811131e-07\n",
            "  1.42600443e-09 9.88014382e-15]\n",
            " [2.00682316e-36 1.47175532e-22 4.77032087e-20 2.52766750e-20\n",
            "  1.00000000e+00 4.94165598e-18 2.16937741e-31 1.06402666e-13\n",
            "  5.98199801e-09 7.01531986e-13]\n",
            " [7.16806136e-37 2.88966969e-22 3.65266576e-20 2.57572385e-19\n",
            "  5.14072326e-11 3.79568368e-18 1.53706668e-27 1.03928448e-22\n",
            "  3.05610170e-18 1.00000000e+00]\n",
            " [8.53389400e-17 1.42239955e-36 3.48893524e-28 4.86058356e-21\n",
            "  7.41048311e-22 1.00000000e+00 5.12801712e-09 9.91463743e-26\n",
            "  1.24302924e-09 2.54033308e-18]]\n",
            "[7 2 1 0 4 1 4 9 5]\n"
          ],
          "name": "stdout"
        }
      ]
    },
    {
      "metadata": {
        "id": "V2Gca2xlnSU8",
        "colab_type": "code",
        "colab": {
          "base_uri": "https://localhost:8080/",
          "height": 54
        },
        "outputId": "83d4d94f-afad-434e-941e-8b430f35fb45"
      },
      "cell_type": "code",
      "source": [
        "layer_dict = dict([(layer.name, layer) for layer in model.layers])\n",
        "print(layer_dict)"
      ],
      "execution_count": 64,
      "outputs": [
        {
          "output_type": "stream",
          "text": [
            "{'conv2d_9': <keras.layers.convolutional.Conv2D object at 0x7f3b515878d0>, 'conv2d_10': <keras.layers.convolutional.Conv2D object at 0x7f3b51587c50>, 'conv2d_11': <keras.layers.convolutional.Conv2D object at 0x7f3b515b6940>, 'conv2d_12': <keras.layers.convolutional.Conv2D object at 0x7f3b51605668>, 'flatten_3': <keras.layers.core.Flatten object at 0x7f3b51020be0>, 'activation_3': <keras.layers.core.Activation object at 0x7f3b50ab9fd0>}\n"
          ],
          "name": "stdout"
        }
      ]
    },
    {
      "metadata": {
        "id": "wb1pRdv4utwu",
        "colab_type": "code",
        "colab": {
          "base_uri": "https://localhost:8080/",
          "height": 839
        },
        "outputId": "b2291bfe-75e2-4ac2-c59b-1d16b7d1c817"
      },
      "cell_type": "code",
      "source": [
        "import numpy as np\n",
        "from matplotlib import pyplot as plt\n",
        "from keras import backend as K\n",
        "%matplotlib inline\n",
        "# util function to convert a tensor into a valid image\n",
        "def deprocess_image(x):\n",
        "  # normalize tensor: center on 0., sensure std is 0.1\n",
        "  x -= x.mean()\n",
        "  x /= (x.std() + 1e-5)\n",
        "  x *= 0.1\n",
        "  \n",
        "  # clip to [0, 1]\n",
        "  x += 0.5\n",
        "  x = np.clip(x, 0, 1)\n",
        "  \n",
        "  # convert to RGB array\n",
        "  x *= 255\n",
        "  #x = x.transpose((1, 2, 0))\n",
        "  x = np.clip(x, 0, 255).astype('uint8')\n",
        "  return x\n",
        "\n",
        "def vis_img_in_filter(img = np.array(X_train[2]).reshape((1, 28, 28, 1)).astype(np.float64), layer_name = 'conv2d_1'):\n",
        "  layer_output = layer_dict[layer_name].output\n",
        "  img_ascs = list()\n",
        "  for filter_index in range(layer_output.shape[3]):\n",
        "    # build a loss function that maximizes the activation\n",
        "    # of the nth filter of the layer considered\n",
        "    loss = K.mean(layer_output[:, :, :, filter_index])\n",
        "    \n",
        "    # compute the gradient of the input picture wrt this loss\n",
        "    grads = K.gradients(loss, model.input)[0]\n",
        "    \n",
        "    # normalization trick: we normalize the gradient\n",
        "    grads /= (K.sqrt(K.mean(K.square(grads))) + 1e-5)\n",
        "    \n",
        "    # this function returns the loss and grads given the input picture\n",
        "    iterate = K.function([model.input], [loss, grads])\n",
        "    \n",
        "    # step size for gradient ascent\n",
        "    step = 5.\n",
        "    \n",
        "    img_asc = np.array(img)\n",
        "    # run gradient ascent for 20 steps\n",
        "    for i in range(20):\n",
        "      loss_value, grads_value = iterate([img_asc])\n",
        "      img_asc += grads_value * step\n",
        "      \n",
        "    img_asc = img_asc[0]\n",
        "    img_ascs.append(deprocess_image(img_asc).reshape((28, 28)))\n",
        "    \n",
        "  if layer_output.shape[3] >= 35:\n",
        "    plot_x, plot_y = 6, 6\n",
        "  elif layer_output.shape[3] >= 23:\n",
        "    plot_x, plot_y = 4, 6\n",
        "  elif layer_output.shape[3] >= 11:\n",
        "    plot_x, plot_y = 2, 6\n",
        "  else:\n",
        "    plot_x, plot_y = 1, 2\n",
        "  \n",
        "  fig, ax = plt.subplots(plot_x, plot_y, figsize = (12, 12))\n",
        "  ax[0, 0].imshow(img.reshape((28, 28)), cmap = 'gray')\n",
        "  ax[0, 0].set_title('Input Image')\n",
        "  fig.suptitle('Input image and %s filters' % (layer_name, ))\n",
        "  fig.tight_layout(pad = 0.3, rect = [0, 0, 0.9, 0.9])\n",
        "  for (x, y) in [(i, j) for i in range(plot_x) for j in range(plot_y)]:\n",
        "    if x == 0 and y == 0:\n",
        "      continue\n",
        "    ax[x, y].imshow(img_ascs[x * plot_y + y - 1], cmap = 'gray')\n",
        "    ax[x, y].set_title('filter %d' % (x * plot_y + y - 1))\n",
        "    \n",
        "vis_img_in_filter()\n",
        "\n",
        "    \n",
        " "
      ],
      "execution_count": 66,
      "outputs": [
        {
          "output_type": "display_data",
          "data": {
            "image/png": "[encoded data removed]",
            "text/plain": [
              "<matplotlib.figure.Figure at 0x7f3b467f0da0>"
            ]
          },
          "metadata": {
            "tags": []
          }
        }
      ]
    }
  ]
}