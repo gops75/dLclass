{
  "nbformat": 4,
  "nbformat_minor": 0,
  "metadata": {
    "colab": {
      "name": "inkersDL_p1r2_1stDNN.ipynb",
      "version": "0.3.2",
      "provenance": [],
      "collapsed_sections": []
    },
    "kernelspec": {
      "name": "python3",
      "display_name": "Python 3"
    },
    "accelerator": "GPU"
  },
  "cells": [
    {
      "cell_type": "markdown",
      "metadata": {
        "id": "view-in-github",
        "colab_type": "text"
      },
      "source": [
        "[View in Colaboratory](https://colab.research.google.com/github/gops75/dLclass/blob/master/s4/inkersDL_p1r2_1stDNN.ipynb)"
      ]
    },
    {
      "metadata": {
        "id": "N6bVEPRq1Xxu",
        "colab_type": "code",
        "colab": {
          "base_uri": "https://localhost:8080/",
          "height": 141
        },
        "outputId": "d04d415c-b4da-46b5-d5f8-87591cbd2e43"
      },
      "cell_type": "code",
      "source": [
        "!pip install keras"
      ],
      "execution_count": 0,
      "outputs": [
        {
          "output_type": "stream",
          "text": [
            "Requirement already satisfied: keras in /usr/local/lib/python3.6/dist-packages (2.1.6)\r\n",
            "Requirement already satisfied: scipy>=0.14 in /usr/local/lib/python3.6/dist-packages (from keras) (0.19.1)\r\n",
            "Requirement already satisfied: numpy>=1.9.1 in /usr/local/lib/python3.6/dist-packages (from keras) (1.14.3)\r\n",
            "Requirement already satisfied: pyyaml in /usr/local/lib/python3.6/dist-packages (from keras) (3.12)\r\n",
            "Requirement already satisfied: six>=1.9.0 in /usr/local/lib/python3.6/dist-packages (from keras) (1.11.0)\r\n",
            "Requirement already satisfied: h5py in /usr/local/lib/python3.6/dist-packages (from keras) (2.7.1)\r\n"
          ],
          "name": "stdout"
        }
      ]
    },
    {
      "metadata": {
        "id": "QKvjKuGe3TzA",
        "colab_type": "code",
        "colab": {
          "base_uri": "https://localhost:8080/",
          "height": 34
        },
        "outputId": "fec54d24-3823-445c-86b1-2f34b7182842"
      },
      "cell_type": "code",
      "source": [
        "import tensorflow as tf\n",
        "tf.test.gpu_device_name()"
      ],
      "execution_count": 16,
      "outputs": [
        {
          "output_type": "execute_result",
          "data": {
            "text/plain": [
              "'/device:GPU:0'"
            ]
          },
          "metadata": {
            "tags": []
          },
          "execution_count": 16
        }
      ]
    },
    {
      "metadata": {
        "id": "V22MwmuPytxy",
        "colab_type": "code",
        "colab": {}
      },
      "cell_type": "code",
      "source": [
        "import numpy as np\n",
        "from keras.models import Sequential\n",
        "from keras.layers import Dense, Dropout, Activation, Flatten, Add\n",
        "from keras.layers import Convolution2D, MaxPooling2D\n",
        "from keras.utils import np_utils\n",
        "from keras.datasets import mnist"
      ],
      "execution_count": 0,
      "outputs": []
    },
    {
      "metadata": {
        "id": "dUPRHYeQziam",
        "colab_type": "code",
        "colab": {}
      },
      "cell_type": "code",
      "source": [
        "(X_train, y_train), (X_test, y_test) = mnist.load_data()"
      ],
      "execution_count": 0,
      "outputs": []
    },
    {
      "metadata": {
        "id": "ypJAkpQz9SnS",
        "colab_type": "code",
        "colab": {
          "base_uri": "https://localhost:8080/",
          "height": 300
        },
        "outputId": "7755ed4e-4ae0-4dbc-b399-c9f395942b4b"
      },
      "cell_type": "code",
      "source": [
        "print(X_train.shape)\n",
        "from matplotlib import pyplot as plt\n",
        "%matplotlib inline\n",
        "plt.imshow(X_train[0])"
      ],
      "execution_count": 19,
      "outputs": [
        {
          "output_type": "stream",
          "text": [
            "(60000, 28, 28)\n"
          ],
          "name": "stdout"
        },
        {
          "output_type": "execute_result",
          "data": {
            "text/plain": [
              "<matplotlib.image.AxesImage at 0x7f03fe63e9e8>"
            ]
          },
          "metadata": {
            "tags": []
          },
          "execution_count": 19
        },
        {
          "output_type": "display_data",
          "data": {
            "image/png": "[encoded data removed]",
            "text/plain": [
              "<matplotlib.figure.Figure at 0x7f03fe60c128>"
            ]
          },
          "metadata": {
            "tags": []
          }
        }
      ]
    },
    {
      "metadata": {
        "id": "_mmRQJxQ-HKE",
        "colab_type": "code",
        "colab": {
          "base_uri": "https://localhost:8080/",
          "height": 34
        },
        "outputId": "b8ff1cee-384b-45c3-ad36-04733f31f9f0"
      },
      "cell_type": "code",
      "source": [
        "X_train.shape[0]"
      ],
      "execution_count": 20,
      "outputs": [
        {
          "output_type": "execute_result",
          "data": {
            "text/plain": [
              "60000"
            ]
          },
          "metadata": {
            "tags": []
          },
          "execution_count": 20
        }
      ]
    },
    {
      "metadata": {
        "id": "qxeYVzNo9pJm",
        "colab_type": "code",
        "colab": {}
      },
      "cell_type": "code",
      "source": [
        "X_train = X_train.reshape(X_train.shape[0], 28, 28, 1)\n",
        "X_test = X_test.reshape(X_test.shape[0], 28, 28, 1)"
      ],
      "execution_count": 0,
      "outputs": []
    },
    {
      "metadata": {
        "id": "O252Uf35-S0a",
        "colab_type": "code",
        "colab": {}
      },
      "cell_type": "code",
      "source": [
        "X_train = X_train.astype('float32')\n",
        "X_test = X_test.astype('float32')\n",
        "X_train /= 255\n",
        "X_test /= 255"
      ],
      "execution_count": 0,
      "outputs": []
    },
    {
      "metadata": {
        "id": "gCCiBCa4_G_0",
        "colab_type": "code",
        "colab": {
          "base_uri": "https://localhost:8080/",
          "height": 34
        },
        "outputId": "cb9b22a8-dd33-4fc0-e946-6ea380214a2d"
      },
      "cell_type": "code",
      "source": [
        "y_train[:10]"
      ],
      "execution_count": 23,
      "outputs": [
        {
          "output_type": "execute_result",
          "data": {
            "text/plain": [
              "array([5, 0, 4, 1, 9, 2, 1, 3, 1, 4], dtype=uint8)"
            ]
          },
          "metadata": {
            "tags": []
          },
          "execution_count": 23
        }
      ]
    },
    {
      "metadata": {
        "id": "s9kJh3fDBB6k",
        "colab_type": "code",
        "colab": {}
      },
      "cell_type": "code",
      "source": [
        "Y_train = np_utils.to_categorical(y_train, 10)\n",
        "Y_test = np_utils.to_categorical(y_test, 10)"
      ],
      "execution_count": 0,
      "outputs": []
    },
    {
      "metadata": {
        "id": "pY6fZvm0BZZG",
        "colab_type": "code",
        "colab": {
          "base_uri": "https://localhost:8080/",
          "height": 191
        },
        "outputId": "1d287724-6ce1-43e0-dd1a-a4cfe5886225"
      },
      "cell_type": "code",
      "source": [
        "Y_train[:10]"
      ],
      "execution_count": 25,
      "outputs": [
        {
          "output_type": "execute_result",
          "data": {
            "text/plain": [
              "array([[0., 0., 0., 0., 0., 1., 0., 0., 0., 0.],\n",
              "       [1., 0., 0., 0., 0., 0., 0., 0., 0., 0.],\n",
              "       [0., 0., 0., 0., 1., 0., 0., 0., 0., 0.],\n",
              "       [0., 1., 0., 0., 0., 0., 0., 0., 0., 0.],\n",
              "       [0., 0., 0., 0., 0., 0., 0., 0., 0., 1.],\n",
              "       [0., 0., 1., 0., 0., 0., 0., 0., 0., 0.],\n",
              "       [0., 1., 0., 0., 0., 0., 0., 0., 0., 0.],\n",
              "       [0., 0., 0., 1., 0., 0., 0., 0., 0., 0.],\n",
              "       [0., 1., 0., 0., 0., 0., 0., 0., 0., 0.],\n",
              "       [0., 0., 0., 0., 1., 0., 0., 0., 0., 0.]], dtype=float32)"
            ]
          },
          "metadata": {
            "tags": []
          },
          "execution_count": 25
        }
      ]
    },
    {
      "metadata": {
        "id": "4Hr5Y3HcBjMq",
        "colab_type": "code",
        "colab": {
          "base_uri": "https://localhost:8080/",
          "height": 121
        },
        "outputId": "5becaf5e-ec79-463f-8f89-99a0cbf7c5ea"
      },
      "cell_type": "code",
      "source": [
        "from keras.layers import Activation\n",
        "model = Sequential()\n",
        "\n",
        "model.add(Convolution2D(32, 5, 5, activation='relu', input_shape=(28, 28, 1)))\n",
        "# This gives an output of 24 x 24 x 32, which feeds into the next layer as input\n",
        "model.add(Convolution2D(20, 3, 3, activation='relu'))\n",
        "# This yields 22 x 22 x 20\n",
        "model.add(MaxPooling2D(pool_size=(2,2), strides=None, padding='valid', data_format=None))\n",
        "# This adds a MaxPool layer so as to reduce the size from 22 x 22 x 20 to 11 x 11 x 20\n",
        "model.add(Convolution2D(10, 3, 3, activation='relu'))\n",
        "# This yields 9 x 9 x 10\n",
        "model.add(Convolution2D(10, 1, activation='relu'))\n",
        "# This gives an output of 9 x 9 x 10\n",
        "model.add(Convolution2D(10, 9))\n",
        "# The final output from the above convolution is 1 x 1 x 10\n",
        "model.add(Flatten())\n",
        "model.add(Activation('softmax'))"
      ],
      "execution_count": 26,
      "outputs": [
        {
          "output_type": "stream",
          "text": [
            "/usr/local/lib/python3.6/dist-packages/ipykernel_launcher.py:4: UserWarning: Update your `Conv2D` call to the Keras 2 API: `Conv2D(32, (5, 5), activation=\"relu\", input_shape=(28, 28, 1...)`\n",
            "  after removing the cwd from sys.path.\n",
            "/usr/local/lib/python3.6/dist-packages/ipykernel_launcher.py:6: UserWarning: Update your `Conv2D` call to the Keras 2 API: `Conv2D(20, (3, 3), activation=\"relu\")`\n",
            "  \n",
            "/usr/local/lib/python3.6/dist-packages/ipykernel_launcher.py:10: UserWarning: Update your `Conv2D` call to the Keras 2 API: `Conv2D(10, (3, 3), activation=\"relu\")`\n",
            "  # Remove the CWD from sys.path while we load stuff.\n"
          ],
          "name": "stderr"
        }
      ]
    },
    {
      "metadata": {
        "id": "w6kBnEn-Cjja",
        "colab_type": "code",
        "colab": {
          "base_uri": "https://localhost:8080/",
          "height": 416
        },
        "outputId": "4e502bc8-4c8d-4b29-bd83-f3a0ca1fdb63"
      },
      "cell_type": "code",
      "source": [
        "model.summary()"
      ],
      "execution_count": 27,
      "outputs": [
        {
          "output_type": "stream",
          "text": [
            "_________________________________________________________________\n",
            "Layer (type)                 Output Shape              Param #   \n",
            "=================================================================\n",
            "conv2d_1 (Conv2D)            (None, 24, 24, 32)        832       \n",
            "_________________________________________________________________\n",
            "conv2d_2 (Conv2D)            (None, 22, 22, 20)        5780      \n",
            "_________________________________________________________________\n",
            "max_pooling2d_1 (MaxPooling2 (None, 11, 11, 20)        0         \n",
            "_________________________________________________________________\n",
            "conv2d_3 (Conv2D)            (None, 9, 9, 10)          1810      \n",
            "_________________________________________________________________\n",
            "conv2d_4 (Conv2D)            (None, 9, 9, 10)          110       \n",
            "_________________________________________________________________\n",
            "conv2d_5 (Conv2D)            (None, 1, 1, 10)          8110      \n",
            "_________________________________________________________________\n",
            "flatten_1 (Flatten)          (None, 10)                0         \n",
            "_________________________________________________________________\n",
            "activation_1 (Activation)    (None, 10)                0         \n",
            "=================================================================\n",
            "Total params: 16,642\n",
            "Trainable params: 16,642\n",
            "Non-trainable params: 0\n",
            "_________________________________________________________________\n"
          ],
          "name": "stdout"
        }
      ]
    },
    {
      "metadata": {
        "id": "9pXb00hOk0bg",
        "colab_type": "code",
        "colab": {}
      },
      "cell_type": "code",
      "source": [
        "model.compile(loss='categorical_crossentropy', optimizer='adam', metrics=['accuracy'])"
      ],
      "execution_count": 0,
      "outputs": []
    },
    {
      "metadata": {
        "id": "snEE34C_lhL6",
        "colab_type": "code",
        "colab": {
          "base_uri": "https://localhost:8080/",
          "height": 416
        },
        "outputId": "d732e3ce-daac-4d67-f4c7-07ba6c7f4897"
      },
      "cell_type": "code",
      "source": [
        "model.fit(X_train, Y_train, batch_size=32, nb_epoch=10, verbose=1)"
      ],
      "execution_count": 29,
      "outputs": [
        {
          "output_type": "stream",
          "text": [
            "/usr/local/lib/python3.6/dist-packages/keras/models.py:981: UserWarning: The `nb_epoch` argument in `fit` has been renamed `epochs`.\n",
            "  warnings.warn('The `nb_epoch` argument in `fit` '\n"
          ],
          "name": "stderr"
        },
        {
          "output_type": "stream",
          "text": [
            "Epoch 1/10\n",
            "60000/60000 [==============================] - 22s 374us/step - loss: 0.1907 - acc: 0.9420\n",
            "Epoch 2/10\n",
            "49632/60000 [=======================>......] - ETA: 3s - loss: 0.0654 - acc: 0.9799"
          ],
          "name": "stdout"
        },
        {
          "output_type": "stream",
          "text": [
            "60000/60000 [==============================] - 22s 366us/step - loss: 0.0632 - acc: 0.9806\n",
            "Epoch 3/10\n",
            "60000/60000 [==============================] - 22s 363us/step - loss: 0.0481 - acc: 0.9849\n",
            "Epoch 4/10\n",
            "11712/60000 [====>.........................] - ETA: 17s - loss: 0.0363 - acc: 0.9891"
          ],
          "name": "stdout"
        },
        {
          "output_type": "stream",
          "text": [
            "60000/60000 [==============================] - 22s 363us/step - loss: 0.0389 - acc: 0.9875\n",
            "Epoch 5/10\n",
            "60000/60000 [==============================] - 22s 362us/step - loss: 0.0341 - acc: 0.9890\n",
            "Epoch 6/10\n",
            "  768/60000 [..............................] - ETA: 22s - loss: 0.0193 - acc: 0.9948"
          ],
          "name": "stdout"
        },
        {
          "output_type": "stream",
          "text": [
            "60000/60000 [==============================] - 22s 366us/step - loss: 0.0291 - acc: 0.9905\n",
            "Epoch 7/10\n",
            "56672/60000 [===========================>..] - ETA: 1s - loss: 0.0253 - acc: 0.9916"
          ],
          "name": "stdout"
        },
        {
          "output_type": "stream",
          "text": [
            "60000/60000 [==============================] - 21s 355us/step - loss: 0.0251 - acc: 0.9916\n",
            "Epoch 8/10\n",
            "60000/60000 [==============================] - 21s 357us/step - loss: 0.0220 - acc: 0.9928\n",
            "Epoch 9/10\n",
            "14016/60000 [======>.......................] - ETA: 16s - loss: 0.0181 - acc: 0.9944"
          ],
          "name": "stdout"
        },
        {
          "output_type": "stream",
          "text": [
            "60000/60000 [==============================] - 22s 359us/step - loss: 0.0202 - acc: 0.9936\n",
            "Epoch 10/10\n",
            "60000/60000 [==============================] - 22s 366us/step - loss: 0.0176 - acc: 0.9943\n"
          ],
          "name": "stdout"
        },
        {
          "output_type": "execute_result",
          "data": {
            "text/plain": [
              "<keras.callbacks.History at 0x7f03efd94e80>"
            ]
          },
          "metadata": {
            "tags": []
          },
          "execution_count": 29
        }
      ]
    },
    {
      "metadata": {
        "id": "GtX507bomcQQ",
        "colab_type": "code",
        "colab": {}
      },
      "cell_type": "code",
      "source": [
        "score = model.evaluate(X_test, Y_test, verbose=0)"
      ],
      "execution_count": 0,
      "outputs": []
    },
    {
      "metadata": {
        "id": "nhkXCoPtmtkK",
        "colab_type": "code",
        "colab": {
          "base_uri": "https://localhost:8080/",
          "height": 34
        },
        "outputId": "aab8054a-0013-4dfe-8cd4-9cc1ad69550f"
      },
      "cell_type": "code",
      "source": [
        "print(score)"
      ],
      "execution_count": 33,
      "outputs": [
        {
          "output_type": "stream",
          "text": [
            "[0.033965714395361286, 0.9905]\n"
          ],
          "name": "stdout"
        }
      ]
    },
    {
      "metadata": {
        "id": "HJ-r1Ohtm4Gg",
        "colab_type": "code",
        "colab": {}
      },
      "cell_type": "code",
      "source": [
        "y_pred = model.predict(X_test)"
      ],
      "execution_count": 0,
      "outputs": []
    },
    {
      "metadata": {
        "id": "qFBp52blm8pK",
        "colab_type": "code",
        "colab": {
          "base_uri": "https://localhost:8080/",
          "height": 503
        },
        "outputId": "f213ad73-45e1-4e22-9778-941dc50710c0"
      },
      "cell_type": "code",
      "source": [
        "print(y_pred[:9])\n",
        "print(y_test[:9])"
      ],
      "execution_count": 35,
      "outputs": [
        {
          "output_type": "stream",
          "text": [
            "[[2.71180576e-17 8.62774313e-16 1.30204944e-10 1.26458644e-11\n",
            "  5.85366316e-21 3.15383930e-15 1.34948463e-26 1.00000000e+00\n",
            "  2.72812084e-14 8.75578499e-10]\n",
            " [3.32700881e-12 8.59815778e-12 1.00000000e+00 3.06555562e-13\n",
            "  5.12143965e-20 4.62896306e-16 2.58966946e-08 5.33188339e-18\n",
            "  1.03512398e-11 1.32706318e-19]\n",
            " [6.22637081e-11 9.99983788e-01 4.33734749e-06 1.04934237e-07\n",
            "  1.90491988e-07 5.40005294e-06 1.26297763e-07 4.75180195e-06\n",
            "  1.30606907e-06 6.77135237e-09]\n",
            " [9.99999881e-01 1.05515463e-16 1.34861677e-08 1.72498490e-13\n",
            "  2.62737232e-15 1.33268635e-12 6.11609678e-08 3.81479414e-14\n",
            "  8.26995805e-10 5.49527424e-10]\n",
            " [9.12592987e-11 7.21875359e-14 4.16340074e-10 7.17989687e-13\n",
            "  9.99978185e-01 8.48144200e-13 2.10124431e-12 3.88685722e-10\n",
            "  1.68321712e-08 2.18003988e-05]\n",
            " [2.34104097e-10 9.99965310e-01 5.02867533e-06 2.23996910e-09\n",
            "  5.07886398e-07 3.31109931e-08 1.16935020e-07 2.84464350e-05\n",
            "  5.87246802e-07 5.85383404e-08]\n",
            " [5.25234890e-21 3.11852019e-14 1.51156282e-10 2.37767146e-15\n",
            "  9.99998450e-01 1.93794158e-09 1.14909474e-17 9.35262198e-12\n",
            "  1.25406712e-06 2.75557142e-07]\n",
            " [2.04847189e-15 2.59664457e-10 3.23653282e-08 5.99881478e-09\n",
            "  3.84910163e-06 1.27586205e-10 1.15886045e-16 4.26990387e-11\n",
            "  2.02416686e-07 9.99995828e-01]\n",
            " [4.47680440e-13 2.81601128e-19 3.57012011e-12 8.47563461e-14\n",
            "  6.42182264e-16 9.98569965e-01 1.42994407e-03 2.50687342e-15\n",
            "  1.36590714e-07 1.38256806e-09]]\n",
            "[7 2 1 0 4 1 4 9 5]\n"
          ],
          "name": "stdout"
        }
      ]
    },
    {
      "metadata": {
        "id": "V2Gca2xlnSU8",
        "colab_type": "code",
        "colab": {
          "base_uri": "https://localhost:8080/",
          "height": 54
        },
        "outputId": "eb29d73a-d61d-49d1-884e-bb90be22a8b3"
      },
      "cell_type": "code",
      "source": [
        "layer_dict = dict([(layer.name, layer) for layer in model.layers])\n",
        "print(layer_dict)"
      ],
      "execution_count": 36,
      "outputs": [
        {
          "output_type": "stream",
          "text": [
            "{'conv2d_1': <keras.layers.convolutional.Conv2D object at 0x7f03efd77908>, 'conv2d_2': <keras.layers.convolutional.Conv2D object at 0x7f03efd77668>, 'max_pooling2d_1': <keras.layers.pooling.MaxPooling2D object at 0x7f03efd77e80>, 'conv2d_3': <keras.layers.convolutional.Conv2D object at 0x7f03efda2ef0>, 'conv2d_4': <keras.layers.convolutional.Conv2D object at 0x7f03e49d5fd0>, 'conv2d_5': <keras.layers.convolutional.Conv2D object at 0x7f03e49ed668>, 'flatten_1': <keras.layers.core.Flatten object at 0x7f03e49a95c0>, 'activation_1': <keras.layers.core.Activation object at 0x7f03e4942438>}\n"
          ],
          "name": "stdout"
        }
      ]
    },
    {
      "metadata": {
        "id": "wb1pRdv4utwu",
        "colab_type": "code",
        "colab": {
          "base_uri": "https://localhost:8080/",
          "height": 839
        },
        "outputId": "5287edb5-57be-41b4-eb09-748248fbb60c"
      },
      "cell_type": "code",
      "source": [
        "import numpy as np\n",
        "from matplotlib import pyplot as plt\n",
        "from keras import backend as K\n",
        "%matplotlib inline\n",
        "# util function to convert a tensor into a valid image\n",
        "def deprocess_image(x):\n",
        "  # normalize tensor: center on 0., sensure std is 0.1\n",
        "  x -= x.mean()\n",
        "  x /= (x.std() + 1e-5)\n",
        "  x *= 0.1\n",
        "  \n",
        "  # clip to [0, 1]\n",
        "  x += 0.5\n",
        "  x = np.clip(x, 0, 1)\n",
        "  \n",
        "  # convert to RGB array\n",
        "  x *= 255\n",
        "  #x = x.transpose((1, 2, 0))\n",
        "  x = np.clip(x, 0, 255).astype('uint8')\n",
        "  return x\n",
        "\n",
        "def vis_img_in_filter(img = np.array(X_train[2]).reshape((1, 28, 28, 1)).astype(np.float64), layer_name = 'conv2d_1'):\n",
        "  layer_output = layer_dict[layer_name].output\n",
        "  img_ascs = list()\n",
        "  for filter_index in range(layer_output.shape[3]):\n",
        "    # build a loss function that maximizes the activation\n",
        "    # of the nth filter of the layer considered\n",
        "    loss = K.mean(layer_output[:, :, :, filter_index])\n",
        "    \n",
        "    # compute the gradient of the input picture wrt this loss\n",
        "    grads = K.gradients(loss, model.input)[0]\n",
        "    \n",
        "    # normalization trick: we normalize the gradient\n",
        "    grads /= (K.sqrt(K.mean(K.square(grads))) + 1e-5)\n",
        "    \n",
        "    # this function returns the loss and grads given the input picture\n",
        "    iterate = K.function([model.input], [loss, grads])\n",
        "    \n",
        "    # step size for gradient ascent\n",
        "    step = 5.\n",
        "    \n",
        "    img_asc = np.array(img)\n",
        "    # run gradient ascent for 20 steps\n",
        "    for i in range(20):\n",
        "      loss_value, grads_value = iterate([img_asc])\n",
        "      img_asc += grads_value * step\n",
        "      \n",
        "    img_asc = img_asc[0]\n",
        "    img_ascs.append(deprocess_image(img_asc).reshape((28, 28)))\n",
        "    \n",
        "  if layer_output.shape[3] >= 35:\n",
        "    plot_x, plot_y = 6, 6\n",
        "  elif layer_output.shape[3] >= 23:\n",
        "    plot_x, plot_y = 4, 6\n",
        "  elif layer_output.shape[3] >= 11:\n",
        "    plot_x, plot_y = 2, 6\n",
        "  else:\n",
        "    plot_x, plot_y = 1, 2\n",
        "  \n",
        "  fig, ax = plt.subplots(plot_x, plot_y, figsize = (12, 12))\n",
        "  ax[0, 0].imshow(img.reshape((28, 28)), cmap = 'gray')\n",
        "  ax[0, 0].set_title('Input Image')\n",
        "  fig.suptitle('Input image and %s filters' % (layer_name, ))\n",
        "  fig.tight_layout(pad = 0.3, rect = [0, 0, 0.9, 0.9])\n",
        "  for (x, y) in [(i, j) for i in range(plot_x) for j in range(plot_y)]:\n",
        "    if x == 0 and y == 0:\n",
        "      continue\n",
        "    ax[x, y].imshow(img_ascs[x * plot_y + y - 1], cmap = 'gray')\n",
        "    ax[x, y].set_title('filter %d' % (x * plot_y + y - 1))\n",
        "    \n",
        "vis_img_in_filter()\n",
        "\n",
        "    \n",
        " "
      ],
      "execution_count": 37,
      "outputs": [
        {
          "output_type": "display_data",
          "data": {
            "image/png": "[encoded data removed]",
            "text/plain": [
              "<matplotlib.figure.Figure at 0x7f03e32982b0>"
            ]
          },
          "metadata": {
            "tags": []
          }
        }
      ]
    }
  ]
}